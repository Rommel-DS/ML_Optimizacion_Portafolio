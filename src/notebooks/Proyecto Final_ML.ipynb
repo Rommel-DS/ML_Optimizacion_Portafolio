{
 "cells": [
  {
   "cell_type": "code",
   "execution_count": 1,
   "metadata": {},
   "outputs": [
    {
     "name": "stdout",
     "output_type": "stream",
     "text": [
      "YF.download() has changed argument auto_adjust default to True\n"
     ]
    },
    {
     "name": "stderr",
     "output_type": "stream",
     "text": [
      "[*********************100%***********************]  3 of 3 completed\n"
     ]
    },
    {
     "name": "stdout",
     "output_type": "stream",
     "text": [
      "Error Absoluto Medio (MAE): 0.012612\n",
      "Coeficiente de Determinación (R2): -0.139698\n",
      "\n",
      "Importancia de Features:\n",
      "Ticker\n",
      "GOOGL    0.348338\n",
      "AMZN     0.327182\n",
      "AAPL     0.324479\n",
      "dtype: float64\n"
     ]
    }
   ],
   "source": [
    "import yfinance as yf\n",
    "import numpy as np\n",
    "import pandas as pd\n",
    "import matplotlib.pyplot as plt\n",
    "from sklearn.model_selection import train_test_split\n",
    "from sklearn.ensemble import RandomForestRegressor\n",
    "from sklearn.metrics import mean_absolute_error, r2_score\n",
    "\n",
    "# 1. Carga de datos financieros\n",
    "tickers = ['AAPL', 'GOOGL', 'AMZN']\n",
    "data = yf.download(tickers, start=\"2015-01-01\", end=\"2020-12-31\")['Close']\n",
    "\n",
    "# 2. Calcular Retornos Diarios\n",
    "returns = data.pct_change().dropna()\n",
    "\n",
    "# 3. Definir el problema: Predicción de rendimientos futuros (Regresión)\n",
    "# Objetivo: Predecir el retorno del día siguiente en base a datos pasados\n",
    "returns['Target'] = returns['AAPL'].shift(-1)  # Ejemplo con AAPL\n",
    "\n",
    "# 4. División en train y test\n",
    "returns = returns.dropna()\n",
    "X = returns.drop(columns=['Target'])  # Features\n",
    "y = returns['Target']  # Variable objetivo\n",
    "\n",
    "X_train, X_test, y_train, y_test = train_test_split(X, y, test_size=0.2, random_state=42)\n",
    "\n",
    "# 5. Entrenamiento de modelo de regresión\n",
    "model = RandomForestRegressor(n_estimators=100, random_state=42)\n",
    "model.fit(X_train, y_train)\n",
    "\n",
    "# 6. Evaluación del modelo\n",
    "y_pred = model.predict(X_test)\n",
    "mae = mean_absolute_error(y_test, y_pred)\n",
    "r2 = r2_score(y_test, y_pred)\n",
    "\n",
    "print(f\"Error Absoluto Medio (MAE): {mae:.6f}\")\n",
    "print(f\"Coeficiente de Determinación (R2): {r2:.6f}\")\n",
    "\n",
    "# 7. Importancia de Features\n",
    "feature_importance = pd.Series(model.feature_importances_, index=X.columns).sort_values(ascending=False)\n",
    "print(\"\\nImportancia de Features:\")\n",
    "print(feature_importance)"
   ]
  }
 ],
 "metadata": {
  "kernelspec": {
   "display_name": "Python 3",
   "language": "python",
   "name": "python3"
  },
  "language_info": {
   "codemirror_mode": {
    "name": "ipython",
    "version": 3
   },
   "file_extension": ".py",
   "mimetype": "text/x-python",
   "name": "python",
   "nbconvert_exporter": "python",
   "pygments_lexer": "ipython3",
   "version": "3.12.6"
  }
 },
 "nbformat": 4,
 "nbformat_minor": 2
}
